{
 "cells": [
  {
   "cell_type": "code",
   "execution_count": 1,
   "id": "eeaaae98-92fb-4ae6-be84-600d22d6ed36",
   "metadata": {},
   "outputs": [
    {
     "name": "stderr",
     "output_type": "stream",
     "text": [
      "/Users/ggayq/opt/anaconda3/envs/cellenium_import/lib/python3.10/site-packages/tqdm/auto.py:22: TqdmWarning: IProgress not found. Please update jupyter and ipywidgets. See https://ipywidgets.readthedocs.io/en/stable/user_install.html\n",
      "  from .autonotebook import tqdm as notebook_tqdm\n"
     ]
    }
   ],
   "source": [
    "from typing import List\n",
    "import pandas as pd\n",
    "import seaborn as sns\n",
    "import matplotlib.pyplot as plt\n",
    "import io\n",
    "import base64\n",
    "import pandas as pd\n",
    "import scanpy as sc\n",
    "from joblib import Parallel, delayed, cpu_count\n",
    "import numpy as np\n",
    "import scipy\n",
    "from numba import njit\n",
    "from tqdm import tqdm\n",
    "import torch\n",
    "\n",
    "def sql_query(query):\n",
    "    from postgres_utils import engine\n",
    "    from sqlalchemy import text\n",
    "    with engine.connect() as connection:\n",
    "        r = connection.execute(text(query))            \n",
    "        return [row._mapping for row in r.fetchall()]    \n",
    "    r = plpy.execute(query)\n",
    "    return [row for row in r]"
   ]
  },
  {
   "cell_type": "code",
   "execution_count": 3,
   "id": "96fac91d-96f7-4e4e-825d-df7d9b6736a5",
   "metadata": {},
   "outputs": [],
   "source": [
    "study_id = 3\n",
    "omics_id = 12652\n",
    "data = sql_query(f\"\"\"\n",
    "    SELECT s.filename,so.h5ad_var_index FROM study s\n",
    "    JOIN study_omics so\n",
    "      ON s.study_id=so.study_id\n",
    "    WHERE omics_id={omics_id} AND s.study_id={study_id}\n",
    "    \"\"\").pop()"
   ]
  },
  {
   "cell_type": "code",
   "execution_count": 4,
   "id": "c2f59dcf-46d8-49f8-bc52-029eb451d57a",
   "metadata": {},
   "outputs": [],
   "source": [
    "fn = data.get('filename').replace('/h5ad_store','../scratch')\n",
    "goi = data.get('h5ad_var_index')"
   ]
  },
  {
   "cell_type": "code",
   "execution_count": 5,
   "id": "ddfc407e-b917-417e-91c4-aad2181cbd9d",
   "metadata": {},
   "outputs": [],
   "source": [
    "adata = sc.read(fn)\n",
    "df = adata.X.T.todense()"
   ]
  },
  {
   "cell_type": "code",
   "execution_count": 48,
   "id": "27139a99-31f1-4141-b1d9-41243802a8cf",
   "metadata": {},
   "outputs": [],
   "source": [
    "@njit\n",
    "def pearson_corr(m):\n",
    "    return np.corrcoef(m)[0,1]\n",
    "\n",
    "def compute_correlation(m, genes, goi):\n",
    "    collect = []\n",
    "    for gene in genes:\n",
    "        r = pearson_corr(m[[goi,gene]])\n",
    "        if r>=0.2:\n",
    "            collect.append({'h5ad_var_index': gene, 'r':r})\n",
    "    return pd.DataFrame(collect)"
   ]
  },
  {
   "cell_type": "code",
   "execution_count": 49,
   "id": "3412667b-181d-475f-a567-5d04c21a5c9f",
   "metadata": {},
   "outputs": [],
   "source": [
    "chunks = np.array_split([_ for _ in range(0,adata.n_vars) if _!=goi],8)"
   ]
  },
  {
   "cell_type": "code",
   "execution_count": 57,
   "id": "ae06bcdc-fddc-4bc0-9bc5-8fcd40218009",
   "metadata": {},
   "outputs": [
    {
     "name": "stdout",
     "output_type": "stream",
     "text": [
      "CPU times: user 31.4 s, sys: 2.03 s, total: 33.4 s\n",
      "Wall time: 10.3 s\n"
     ]
    }
   ],
   "source": [
    "%%time\n",
    "result = Parallel(n_jobs=cpu_count(), backend=\"threading\")(delayed(compute_correlation)(m = df, genes=chunk, goi=goi) for chunk in chunks)\n"
   ]
  },
  {
   "cell_type": "code",
   "execution_count": 58,
   "id": "04f7c7ef-7063-47cf-b179-7173e6ddaedb",
   "metadata": {},
   "outputs": [],
   "source": [
    "result = pd.concat(result)"
   ]
  },
  {
   "cell_type": "code",
   "execution_count": 74,
   "id": "272dcec4-f51e-4b11-bc93-585ea6fb9f3a",
   "metadata": {},
   "outputs": [],
   "source": [
    "geneids = tuple(result.h5ad_var_index.tolist())"
   ]
  },
  {
   "cell_type": "code",
   "execution_count": 77,
   "id": "e407de88-fb88-43a8-bcc2-98935437f948",
   "metadata": {},
   "outputs": [],
   "source": [
    "res = sql_query(f'''\n",
    "    SELECT so.omics_id, ob.display_symbol, ob.display_name, so.h5ad_var_index FROM study_omics so\n",
    "      JOIN omics_base ob\n",
    "        ON ob.omics_id = so.omics_id\n",
    "     WHERE  so.study_id = {study_id}\n",
    "       AND so.h5ad_var_index in {geneids}''')\n"
   ]
  },
  {
   "cell_type": "code",
   "execution_count": 86,
   "id": "e5d05a7d-f65d-4946-9c61-15c1c7bc375c",
   "metadata": {},
   "outputs": [],
   "source": [
    "out = pd.DataFrame(res).merge(result, on = 'h5ad_var_index').drop('h5ad_var_index', axis = 1)"
   ]
  },
  {
   "cell_type": "code",
   "execution_count": 88,
   "id": "1f0d9ae1-49e2-4f69-9059-133f22e5d26c",
   "metadata": {},
   "outputs": [],
   "source": [
    "out = out[['omics_id','display_symbol','display_name','r']]"
   ]
  },
  {
   "cell_type": "code",
   "execution_count": 91,
   "id": "4e486623-9ac6-466d-b195-82bc7e4d9387",
   "metadata": {},
   "outputs": [],
   "source": [
    "from pathlib import Path"
   ]
  },
  {
   "cell_type": "code",
   "execution_count": 92,
   "id": "f5e8b275-5bfa-4177-9950-8c35e9854584",
   "metadata": {},
   "outputs": [
    {
     "data": {
      "text/plain": [
       "PosixPath('/h5ad_store/asdf')"
      ]
     },
     "execution_count": 92,
     "metadata": {},
     "output_type": "execute_result"
    }
   ],
   "source": [
    "Path('/h5ad_store') / 'asdf'"
   ]
  },
  {
   "cell_type": "code",
   "execution_count": 111,
   "id": "68e11d5d-48f0-4a55-bd4c-6247f9ca509c",
   "metadata": {},
   "outputs": [],
   "source": [
    "fn = Path('../scratch') / Path(data[0].get('filename')).name"
   ]
  },
  {
   "cell_type": "code",
   "execution_count": 112,
   "id": "b84c7756-6b45-47bc-b12a-5b2a2a3c24b0",
   "metadata": {},
   "outputs": [
    {
     "data": {
      "text/plain": [
       "PosixPath('../scratch/blood_covid.h5ad')"
      ]
     },
     "execution_count": 112,
     "metadata": {},
     "output_type": "execute_result"
    }
   ],
   "source": [
    "fn"
   ]
  },
  {
   "cell_type": "code",
   "execution_count": 113,
   "id": "fd30ad6b-e380-402f-96b0-049010c848f8",
   "metadata": {},
   "outputs": [
    {
     "ename": "SyntaxError",
     "evalue": "'return' outside function (975559305.py, line 63)",
     "output_type": "error",
     "traceback": [
      "\u001b[0;36m  Cell \u001b[0;32mIn[113], line 63\u001b[0;36m\u001b[0m\n\u001b[0;31m    return out.to_records(index=False)\u001b[0m\n\u001b[0m    ^\u001b[0m\n\u001b[0;31mSyntaxError\u001b[0m\u001b[0;31m:\u001b[0m 'return' outside function\n"
     ]
    }
   ],
   "source": [
    "import pandas as pd\n",
    "import scanpy as sc\n",
    "from joblib import Parallel, delayed, cpu_count\n",
    "import numpy as np\n",
    "import scipy\n",
    "from numba import njit\n",
    "\n",
    "def sql_query(query):\n",
    "    # postgres data retrieval with consistent output, both in the jupyter development\n",
    "    # environment (plpy is not available) and at runtime inside a plpython3u stored procedure\n",
    "    try:\n",
    "        import plpy\n",
    "    except:\n",
    "        from postgres_utils import engine\n",
    "        from sqlalchemy import text\n",
    "        with engine.connect() as connection:\n",
    "            r = connection.execute(text(query))\n",
    "            return [row._mapping for row in r.fetchall()]\n",
    "    r = plpy.execute(query)\n",
    "    return [row for row in r]\n",
    "\n",
    "@njit\n",
    "def pearson_corr(m):\n",
    "    return np.corrcoef(m)[0,1]\n",
    "\n",
    "def compute_correlation(m, genes, goi):\n",
    "    collect = []\n",
    "    for gene in genes:\n",
    "        r = pearson_corr(m[[goi,gene]])\n",
    "        if r>=0.2:\n",
    "            collect.append({'h5ad_var_index': gene, 'r':r})\n",
    "    return pd.DataFrame(collect)\n",
    "\n",
    "\n",
    "data = sql_query(f\"\"\"\n",
    "    SELECT s.filename,so.h5ad_var_index FROM study s\n",
    "    JOIN study_omics so\n",
    "      ON s.study_id=so.study_id\n",
    "    WHERE omics_id={omics_id} AND s.study_id={study_id}\n",
    "    \"\"\")\n",
    "#fn = Path('/h5ad_store') / data[0].get('filename')\n",
    "fn = Path('../scratch') / Path(data[0].get('filename')).name\n",
    "goi = data[0].get('h5ad_var_index')\n",
    "\n",
    "adata = sc.read(fn)\n",
    "df = adata.X.T.todense()\n",
    "\n",
    "chunks = np.array_split([_ for _ in range(0,adata.n_vars) if _!=goi],8)\n",
    "result = Parallel(n_jobs=cpu_count(), backend=\"threading\")(delayed(compute_correlation)(m = df, genes=chunk, goi=goi) for chunk in chunks)\n",
    "result = pd.concat(result)\n",
    "\n",
    "geneids = tuple(result.h5ad_var_index.tolist())\n",
    "ret = sql_query(f'''\n",
    "    SELECT so.omics_id, ob.display_symbol, ob.display_name, so.h5ad_var_index FROM study_omics so\n",
    "      JOIN omics_base ob\n",
    "        ON ob.omics_id = so.omics_id\n",
    "     WHERE  so.study_id = {study_id}\n",
    "       AND so.h5ad_var_index in {geneids}\n",
    "''')\n",
    "out = pd.DataFrame(ret).merge(result, on = 'h5ad_var_index').drop('h5ad_var_index', axis =1)\n",
    "out = out[['omics_id','display_symbol','display_name','r']]\n",
    "\n",
    "return out.to_records(index=False)"
   ]
  },
  {
   "cell_type": "code",
   "execution_count": 114,
   "id": "182b63b3-9175-433f-af9a-adb80a53bfe9",
   "metadata": {},
   "outputs": [
    {
     "data": {
      "text/plain": [
       "rec.array([( 6925, 'ADAM19', 'ADAM metallopeptidase domain 19', 0.24688988),\n",
       "           ( 7112, 'ALDH1L2', 'aldehyde dehydrogenase 1 family member L2', 0.28362993),\n",
       "           (11419, 'AQP3', 'aquaporin 3 (Gill blood group)', 0.241767  ),\n",
       "           (12175, 'ARF4', 'ADP ribosylation factor 4', 0.21127773),\n",
       "           ( 4618, 'BMP8B', 'bone morphogenetic protein 8b', 0.20916775),\n",
       "           (12469, 'BUB1', 'BUB1 mitotic checkpoint serine/threonine kinase', 0.32998851),\n",
       "           (14299, 'CALR', 'calreticulin', 0.38251754),\n",
       "           ( 5978, 'CALU', 'calumenin', 0.29816905),\n",
       "           ( 5820, 'CANX', 'calnexin', 0.2810183 ),\n",
       "           ( 3206, 'CAV1', 'caveolin 1', 0.21814871),\n",
       "           (   50, 'CD38', 'CD38 molecule', 0.45091937),\n",
       "           ( 1993, 'CDC6', 'cell division cycle 6', 0.23401663),\n",
       "           ( 2347, 'CEP128', 'centrosomal protein 128', 0.2250923 ),\n",
       "           ( 5389, 'CHPF', 'chondroitin polymerizing factor', 0.26863922),\n",
       "           (12436, 'CLIC4', 'chloride intracellular channel 4', 0.25313236),\n",
       "           (  662, 'CLPTM1L', 'CLPTM1 like', 0.31628294),\n",
       "           ( 1557, 'COBLL1', 'cordon-bleu WH2 repeat protein like 1', 0.26530415),\n",
       "           (15223, 'COPB2', 'COPI coat complex subunit beta 2', 0.23295235),\n",
       "           ( 5525, 'CPNE5', 'copine 5', 0.2590208 ),\n",
       "           (15164, 'CRELD2', 'cysteine rich with EGF like domains 2', 0.36108044),\n",
       "           (22098, 'DDOST', 'dolichyl-diphosphooligosaccharide--protein glycosyltransferase non-catalytic subunit', 0.24722011),\n",
       "           (12644, 'DENND5B', 'DENN domain containing 5B', 0.3908331 ),\n",
       "           ( 7304, 'DERL1', 'derlin 1', 0.20895131),\n",
       "           ( 2133, 'DERL3', 'derlin 3', 0.50545599),\n",
       "           ( 1870, 'DNAJB11', 'DnaJ heat shock protein family (Hsp40) member B11', 0.37036035),\n",
       "           ( 2671, 'DNAJC3', 'DnaJ heat shock protein family (Hsp40) member C3', 0.22035183),\n",
       "           ( 8565, 'EAF2', 'ELL associated factor 2', 0.36876633),\n",
       "           ( 6755, 'EDEM1', 'ER degradation enhancing alpha-mannosidase like protein 1', 0.30313997),\n",
       "           ( 4829, 'ELL2', 'elongation factor for RNA polymerase II 2', 0.68075158),\n",
       "           ( 1052, 'ERLEC1', 'endoplasmic reticulum lectin 1', 0.42080282),\n",
       "           ( 8267, 'FCRL5', 'Fc receptor like 5', 0.28492034),\n",
       "           ( 6792, 'FKBP11', 'FKBP prolyl isomerase 11', 0.34360852),\n",
       "           (13316, 'FKBP2', 'FKBP prolyl isomerase 2', 0.24035037),\n",
       "           ( 1301, 'FNDC3B', 'fibronectin type III domain containing 3B', 0.20009294),\n",
       "           ( 7413, 'GGH', 'gamma-glutamyl hydrolase', 0.29995156),\n",
       "           ( 3283, 'GLCCI1', 'glucocorticoid induced 1', 0.21650814),\n",
       "           (14170, 'GLDC', 'glycine decarboxylase', 0.27725291),\n",
       "           (11041, 'GNL3', 'G protein nucleolar 3', 0.22733173),\n",
       "           ( 4440, 'HDLBP', 'high density lipoprotein binding protein', 0.38919821),\n",
       "           (  684, 'HERPUD1', 'homocysteine inducible ER protein with ubiquitin like domain 1', 0.24330963),\n",
       "           ( 2475, 'HM13', 'histocompatibility minor 13', 0.28318371),\n",
       "           (11749, 'HSP90B1', 'heat shock protein 90 beta family member 1', 0.64555139),\n",
       "           ( 9744, 'HSPA13', 'heat shock protein family A (Hsp70) member 13', 0.29798935),\n",
       "           (  602, 'HSPA5', 'heat shock protein family A (Hsp70) member 5', 0.45300796),\n",
       "           ( 9107, 'HYOU1', 'hypoxia up-regulated 1', 0.39185314),\n",
       "           (  373, 'IGF1', 'insulin like growth factor 1', 0.21787178),\n",
       "           ( 7354, 'IRF4', 'interferon regulatory factor 4', 0.42665561),\n",
       "           (13042, 'ISG20', 'interferon stimulated exonuclease gene 20', 0.28835822),\n",
       "           ( 7087, 'ITM2C', 'integral membrane protein 2C', 0.68019549),\n",
       "           ( 8347, 'KCNN3', 'potassium calcium-activated channel subfamily N member 3', 0.21188061),\n",
       "           ( 7158, 'KDELR2', 'KDEL endoplasmic reticulum protein retention receptor 2', 0.24996814),\n",
       "           (16757, 'KLHL14', 'kelch like family member 14', 0.3025413 ),\n",
       "           ( 7076, 'LAMC1', 'laminin subunit gamma 1', 0.31037455),\n",
       "           ( 1263, 'LMAN1', 'lectin, mannose binding 1', 0.55659725),\n",
       "           (12374, 'LMAN2', 'lectin, mannose binding 2', 0.26972482),\n",
       "           ( 3565, 'LRRC59', 'leucine rich repeat containing 59', 0.24097543),\n",
       "           (14300, 'MAGED1', 'MAGE family member D1', 0.22039404),\n",
       "           ( 3943, 'MAN1A1', 'mannosidase alpha class 1A member 1', 0.47743888),\n",
       "           (13116, 'MANEA', 'mannosidase endo-alpha', 0.26677779),\n",
       "           ( 8563, 'MANF', 'mesencephalic astrocyte derived neurotrophic factor', 0.44558609),\n",
       "           ( 9035, 'MKI67', 'marker of proliferation Ki-67', 0.26919429),\n",
       "           ( 3796, 'MLEC', 'malectin', 0.27788466),\n",
       "           ( 8907, 'MTDH', 'metadherin', 0.2334209 ),\n",
       "           ( 2416, 'MYBL2', 'MYB proto-oncogene like 2', 0.39057544),\n",
       "           (13851, 'MYO1D', 'myosin ID', 0.26249522),\n",
       "           ( 5412, 'NCOA3', 'nuclear receptor coactivator 3', 0.2126627 ),\n",
       "           (21759, 'NME1', 'NME/NM23 nucleoside diphosphate kinase 1', 0.25858071),\n",
       "           ( 2813, 'NOMO1', 'NODAL modulator 1', 0.27611737),\n",
       "           (12149, 'NT5DC2', \"5'-nucleotidase domain containing 2\", 0.22690862),\n",
       "           (16253, 'NUGGC', 'nuclear GTPase, germinal center associated', 0.29489935),\n",
       "           (17120, 'OSTC', 'oligosaccharyltransferase complex non-catalytic subunit', 0.217639  ),\n",
       "           (15479, 'P4HB', 'prolyl 4-hydroxylase subunit beta', 0.27639131),\n",
       "           (12347, 'PARM1', 'prostate androgen-regulated mucin-like protein 1', 0.27620979),\n",
       "           ( 9775, 'PDIA4', 'protein disulfide isomerase family A member 4', 0.60121952),\n",
       "           (  924, 'PDIA5', 'protein disulfide isomerase family A member 5', 0.27135256),\n",
       "           ( 8396, 'PDIA6', 'protein disulfide isomerase family A member 6', 0.44900315),\n",
       "           ( 1967, 'PHGDH', 'phosphoglycerate dehydrogenase', 0.21009973),\n",
       "           ( 2610, 'PIM2', 'Pim-2 proto-oncogene, serine/threonine kinase', 0.39806043),\n",
       "           ( 3777, 'POU2AF1', 'POU class 2 homeobox associating factor 1', 0.55708221),\n",
       "           (11777, 'PPIB', 'peptidylprolyl isomerase B', 0.30204885),\n",
       "           (  771, 'PRDM1', 'PR/SET domain 1', 0.30687342),\n",
       "           ( 5301, 'PRDX4', 'peroxiredoxin 4', 0.41960185),\n",
       "           ( 3082, 'RABAC1', 'Rab acceptor 1', 0.20022882),\n",
       "           (11028, 'RPN1', 'ribophorin I', 0.31990553),\n",
       "           ( 4806, 'RPN2', 'ribophorin II', 0.39070094),\n",
       "           ( 5674, 'RRBP1', 'ribosome binding protein 1', 0.43232219),\n",
       "           (12965, 'RRM2', 'ribonucleotide reductase regulatory subunit M2', 0.28534077),\n",
       "           ( 4466, 'SDC1', 'syndecan 1', 0.32764079),\n",
       "           ( 5928, 'SDF2L1', 'stromal cell derived factor 2 like 1', 0.3835805 ),\n",
       "           (11738, 'SEC11C', 'SEC11 homolog C, signal peptidase complex subunit', 0.62142614),\n",
       "           ( 9935, 'SEC13', 'SEC13 homolog, nuclear pore and COPII coat complex component', 0.22654624),\n",
       "           ( 6099, 'SEC14L1', 'SEC14 like lipid binding 1', 0.24427705),\n",
       "           ( 4177, 'SEC24A', 'SEC24 homolog A, COPII coat complex component', 0.27093962),\n",
       "           ( 9240, 'SEC24D', 'SEC24 homolog D, COPII coat complex component', 0.25386715),\n",
       "           (  780, 'SEC61A1', 'SEC61 translocon subunit alpha 1', 0.32557915),\n",
       "           ( 3338, 'SEC61B', 'SEC61 translocon subunit beta', 0.28031236),\n",
       "           ( 1148, 'SEL1L', 'SEL1L adaptor subunit of ERAD E3 ubiquitin ligase', 0.33620191),\n",
       "           ( 1917, 'SEL1L3', 'SEL1L family member 3', 0.52918343),\n",
       "           (12826, 'SHCBP1', 'SHC binding and spindle associated 1', 0.3322456 ),\n",
       "           (  456, 'SLAMF7', 'SLAM family member 7', 0.35884133),\n",
       "           (10765, 'SLC16A14', 'solute carrier family 16 member 14', 0.220425  ),\n",
       "           ( 2449, 'SLC17A9', 'solute carrier family 17 member 9', 0.22622884),\n",
       "           ( 4468, 'SLC1A4', 'solute carrier family 1 member 4', 0.27759638),\n",
       "           ( 8165, 'SLC2A5', 'solute carrier family 2 member 5', 0.2090816 ),\n",
       "           (  374, 'SLC38A5', 'solute carrier family 38 member 5', 0.2249777 ),\n",
       "           ( 1097, 'SLC44A1', 'solute carrier family 44 member 1', 0.21259157),\n",
       "           (16617, 'SND1', 'staphylococcal nuclease and tudor domain containing 1', 0.24700745),\n",
       "           ( 5326, 'SPATS2', 'spermatogenesis associated serine rich 2', 0.31437389),\n",
       "           ( 4310, 'SPCS1', 'signal peptidase complex subunit 1', 0.24532233),\n",
       "           ( 4768, 'SPCS2', 'signal peptidase complex subunit 2', 0.28482354),\n",
       "           ( 6038, 'SPCS3', 'signal peptidase complex subunit 3', 0.36415684),\n",
       "           ( 4556, 'SRM', 'spermidine synthase', 0.22418685),\n",
       "           ( 2382, 'SRP54', 'signal recognition particle 54', 0.23640902),\n",
       "           (13524, 'SRP72', 'signal recognition particle 72', 0.20063359),\n",
       "           ( 8544, 'SRPRB', 'SRP receptor subunit beta', 0.27302689),\n",
       "           ( 5528, 'SSR1', 'signal sequence receptor subunit 1', 0.29287615),\n",
       "           ( 4303, 'SSR3', 'signal sequence receptor subunit 3', 0.45063627),\n",
       "           (14545, 'SSR4', 'signal sequence receptor subunit 4', 0.41656384),\n",
       "           ( 1236, 'ST6GAL1', 'ST6 beta-galactoside alpha-2,6-sialyltransferase 1', 0.23747665),\n",
       "           ( 7260, 'ST6GALNAC4', 'ST6 N-acetylgalactosaminide alpha-2,6-sialyltransferase 4', 0.20787682),\n",
       "           ( 6902, 'STT3A', 'STT3 oligosaccharyltransferase complex catalytic subunit A', 0.36532117),\n",
       "           (10897, 'STT3B', 'STT3 oligosaccharyltransferase complex catalytic subunit B', 0.23190675),\n",
       "           ( 4147, 'SUB1', 'SUB1 regulator of transcription', 0.3471534 ),\n",
       "           (12616, 'TMED10', 'transmembrane p24 trafficking protein 10', 0.23004846),\n",
       "           ( 1690, 'TMED2', 'transmembrane p24 trafficking protein 2', 0.20585697),\n",
       "           (15301, 'TMED9', 'transmembrane p24 trafficking protein 9', 0.24145504),\n",
       "           (12250, 'TMEM208', 'transmembrane protein 208', 0.20829414),\n",
       "           ( 6884, 'TMEM258', 'transmembrane protein 258', 0.23517622),\n",
       "           (21822, 'TNFRSF13B', 'TNF receptor superfamily member 13B', 0.31478461),\n",
       "           (  637, 'TNFRSF17', 'TNF receptor superfamily member 17', 0.48669472),\n",
       "           (17143, 'TOP1', 'DNA topoisomerase I', 0.20581278),\n",
       "           (11339, 'TP53INP1', 'tumor protein p53 inducible nuclear protein 1', 0.33679997),\n",
       "           ( 1339, 'TPD52', 'tumor protein D52', 0.35216798),\n",
       "           (  994, 'TRAM1', 'translocation associated membrane protein 1', 0.34393949),\n",
       "           (  914, 'TRAM2', 'translocation associated membrane protein 2', 0.39291347),\n",
       "           (13286, 'TRIB1', 'tribbles pseudokinase 1', 0.21830488),\n",
       "           ( 9509, 'TXNDC11', 'thioredoxin domain containing 11', 0.44933675),\n",
       "           ( 4178, 'TXNDC15', 'thioredoxin domain containing 15', 0.20289767),\n",
       "           (21729, 'TXNDC5', 'thioredoxin domain containing 5', 0.26702421),\n",
       "           ( 4639, 'UAP1', 'UDP-N-acetylglucosamine pyrophosphorylase 1', 0.34489502),\n",
       "           (17103, 'UBE2J1', 'ubiquitin conjugating enzyme E2 J1', 0.5394881 ),\n",
       "           ( 7651, 'USO1', 'USO1 vesicle transport factor', 0.23064731),\n",
       "           (11421, 'VCP', 'valosin containing protein', 0.2497662 ),\n",
       "           ( 2207, 'XBP1', 'X-box binding protein 1', 0.55733668)],\n",
       "          dtype=[('omics_id', '<i8'), ('display_symbol', 'O'), ('display_name', 'O'), ('r', '<f8')])"
      ]
     },
     "execution_count": 114,
     "metadata": {},
     "output_type": "execute_result"
    }
   ],
   "source": [
    "out.to_records(index=False)"
   ]
  },
  {
   "cell_type": "code",
   "execution_count": null,
   "id": "3b70da54-5568-4198-bec2-ce0ac355a32b",
   "metadata": {},
   "outputs": [],
   "source": []
  }
 ],
 "metadata": {
  "kernelspec": {
   "display_name": "cellenium_import",
   "language": "python",
   "name": "cellenium_import"
  },
  "language_info": {
   "codemirror_mode": {
    "name": "ipython",
    "version": 3
   },
   "file_extension": ".py",
   "mimetype": "text/x-python",
   "name": "python",
   "nbconvert_exporter": "python",
   "pygments_lexer": "ipython3",
   "version": "3.10.8"
  }
 },
 "nbformat": 4,
 "nbformat_minor": 5
}
