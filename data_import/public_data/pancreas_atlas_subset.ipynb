{
 "cells": [
  {
   "cell_type": "code",
   "execution_count": 1,
   "id": "2fbf9788-8ca6-4924-b00a-543b0aa09b79",
   "metadata": {},
   "outputs": [
    {
     "name": "stderr",
     "output_type": "stream",
     "text": [
      "20230112-161950.587 52463 INFO root:20 local study files stored in: /Users/sgpeo/projects/cellenium/cellenium/scratch\n"
     ]
    }
   ],
   "source": [
    "import scanpy as sc\n",
    "from anndata import AnnData\n",
    "import numpy as np\n",
    "# import requires setting a PYTHONPATH with the data_import directory\n",
    "import h5ad_preparation as prep\n",
    "import pandas as pd"
   ]
  },
  {
   "cell_type": "code",
   "execution_count": 2,
   "id": "ff85121c-af7e-451e-bba0-b683740a141b",
   "metadata": {},
   "outputs": [],
   "source": [
    "url = \"https://figshare.com/ndownloader/files/24539828\"\n",
    "adata = prep.get_h5ad_from_url(url, \"pancreas_atlas_original\")"
   ]
  },
  {
   "cell_type": "code",
   "execution_count": 3,
   "id": "96236acc-1ff8-4de8-a3cd-fa8889be92aa",
   "metadata": {},
   "outputs": [
    {
     "data": {
      "text/html": [
       "<h2>obs</h2>"
      ],
      "text/plain": [
       "<IPython.core.display.HTML object>"
      ]
     },
     "metadata": {},
     "output_type": "display_data"
    },
    {
     "data": {
      "text/html": [
       "<div>\n",
       "<style scoped>\n",
       "    .dataframe tbody tr th:only-of-type {\n",
       "        vertical-align: middle;\n",
       "    }\n",
       "\n",
       "    .dataframe tbody tr th {\n",
       "        vertical-align: top;\n",
       "    }\n",
       "\n",
       "    .dataframe thead th {\n",
       "        text-align: right;\n",
       "    }\n",
       "</style>\n",
       "<table border=\"1\" class=\"dataframe\">\n",
       "  <thead>\n",
       "    <tr style=\"text-align: right;\">\n",
       "      <th></th>\n",
       "      <th>tech</th>\n",
       "      <th>celltype</th>\n",
       "      <th>size_factors</th>\n",
       "    </tr>\n",
       "  </thead>\n",
       "  <tbody>\n",
       "    <tr>\n",
       "      <th>D101_5</th>\n",
       "      <td>celseq</td>\n",
       "      <td>gamma</td>\n",
       "      <td>0.028492</td>\n",
       "    </tr>\n",
       "    <tr>\n",
       "      <th>D101_43</th>\n",
       "      <td>celseq</td>\n",
       "      <td>gamma</td>\n",
       "      <td>0.079348</td>\n",
       "    </tr>\n",
       "    <tr>\n",
       "      <th>D101_93</th>\n",
       "      <td>celseq</td>\n",
       "      <td>gamma</td>\n",
       "      <td>0.037932</td>\n",
       "    </tr>\n",
       "    <tr>\n",
       "      <th>D102_4</th>\n",
       "      <td>celseq</td>\n",
       "      <td>gamma</td>\n",
       "      <td>0.047685</td>\n",
       "    </tr>\n",
       "    <tr>\n",
       "      <th>D172444_23</th>\n",
       "      <td>celseq</td>\n",
       "      <td>gamma</td>\n",
       "      <td>0.038683</td>\n",
       "    </tr>\n",
       "    <tr>\n",
       "      <th>...</th>\n",
       "      <td>...</td>\n",
       "      <td>...</td>\n",
       "      <td>...</td>\n",
       "    </tr>\n",
       "    <tr>\n",
       "      <th>Sample_1594</th>\n",
       "      <td>smarter</td>\n",
       "      <td>gamma</td>\n",
       "      <td>1.000000</td>\n",
       "    </tr>\n",
       "    <tr>\n",
       "      <th>Sample_1595</th>\n",
       "      <td>smarter</td>\n",
       "      <td>gamma</td>\n",
       "      <td>1.000000</td>\n",
       "    </tr>\n",
       "    <tr>\n",
       "      <th>Sample_1597</th>\n",
       "      <td>smarter</td>\n",
       "      <td>gamma</td>\n",
       "      <td>1.000000</td>\n",
       "    </tr>\n",
       "    <tr>\n",
       "      <th>Sample_1598</th>\n",
       "      <td>smarter</td>\n",
       "      <td>gamma</td>\n",
       "      <td>1.000000</td>\n",
       "    </tr>\n",
       "    <tr>\n",
       "      <th>Sample_1600</th>\n",
       "      <td>smarter</td>\n",
       "      <td>gamma</td>\n",
       "      <td>1.000000</td>\n",
       "    </tr>\n",
       "  </tbody>\n",
       "</table>\n",
       "<p>16382 rows × 3 columns</p>\n",
       "</div>"
      ],
      "text/plain": [
       "<IPython.core.display.HTML object>"
      ]
     },
     "metadata": {},
     "output_type": "display_data"
    },
    {
     "data": {
      "text/html": [
       "<h2>var</h2>"
      ],
      "text/plain": [
       "<IPython.core.display.HTML object>"
      ]
     },
     "metadata": {},
     "output_type": "display_data"
    },
    {
     "data": {
      "text/html": [
       "<div>\n",
       "<style scoped>\n",
       "    .dataframe tbody tr th:only-of-type {\n",
       "        vertical-align: middle;\n",
       "    }\n",
       "\n",
       "    .dataframe tbody tr th {\n",
       "        vertical-align: top;\n",
       "    }\n",
       "\n",
       "    .dataframe thead th {\n",
       "        text-align: right;\n",
       "    }\n",
       "</style>\n",
       "<table border=\"1\" class=\"dataframe\">\n",
       "  <thead>\n",
       "    <tr style=\"text-align: right;\">\n",
       "      <th></th>\n",
       "    </tr>\n",
       "  </thead>\n",
       "  <tbody>\n",
       "    <tr>\n",
       "      <th>A1BG</th>\n",
       "    </tr>\n",
       "    <tr>\n",
       "      <th>A1CF</th>\n",
       "    </tr>\n",
       "    <tr>\n",
       "      <th>A2M</th>\n",
       "    </tr>\n",
       "    <tr>\n",
       "      <th>A2ML1</th>\n",
       "    </tr>\n",
       "    <tr>\n",
       "      <th>A4GALT</th>\n",
       "    </tr>\n",
       "    <tr>\n",
       "      <th>...</th>\n",
       "    </tr>\n",
       "    <tr>\n",
       "      <th>ZXDC</th>\n",
       "    </tr>\n",
       "    <tr>\n",
       "      <th>ZYG11B</th>\n",
       "    </tr>\n",
       "    <tr>\n",
       "      <th>ZYX</th>\n",
       "    </tr>\n",
       "    <tr>\n",
       "      <th>ZZEF1</th>\n",
       "    </tr>\n",
       "    <tr>\n",
       "      <th>ZZZ3</th>\n",
       "    </tr>\n",
       "  </tbody>\n",
       "</table>\n",
       "<p>19093 rows × 0 columns</p>\n",
       "</div>"
      ],
      "text/plain": [
       "<IPython.core.display.HTML object>"
      ]
     },
     "metadata": {},
     "output_type": "display_data"
    },
    {
     "data": {
      "text/html": [
       "<h2>X</h2>"
      ],
      "text/plain": [
       "<IPython.core.display.HTML object>"
      ]
     },
     "metadata": {},
     "output_type": "display_data"
    },
    {
     "data": {
      "text/plain": [
       "(16382, 19093)"
      ]
     },
     "metadata": {},
     "output_type": "display_data"
    },
    {
     "data": {
      "text/plain": [
       "array([[0.        , 0.        , 0.        , ..., 0.        , 0.        ,\n",
       "        0.        ],\n",
       "       [2.6120808 , 0.        , 0.        , ..., 0.        , 2.6120806 ,\n",
       "        0.        ],\n",
       "       [0.        , 3.311074  , 0.        , ..., 0.        , 0.        ,\n",
       "        0.        ],\n",
       "       ...,\n",
       "       [0.42996258, 2.6206095 , 0.        , ..., 2.1124895 , 1.0953737 ,\n",
       "        1.0403827 ],\n",
       "       [3.4695568 , 0.64595073, 0.        , ..., 0.        , 0.        ,\n",
       "        0.        ],\n",
       "       [0.4566651 , 0.5159923 , 0.        , ..., 0.        , 0.53929645,\n",
       "        0.        ]], dtype=float32)"
      ]
     },
     "metadata": {},
     "output_type": "display_data"
    },
    {
     "data": {
      "text/html": [
       "<h2>layer \"counts\"</h2>"
      ],
      "text/plain": [
       "<IPython.core.display.HTML object>"
      ]
     },
     "metadata": {},
     "output_type": "display_data"
    },
    {
     "data": {
      "text/plain": [
       "(16382, 19093)"
      ]
     },
     "metadata": {},
     "output_type": "display_data"
    },
    {
     "data": {
      "text/plain": [
       "array([[ 0.       ,  0.       ,  0.       , ...,  0.       ,  0.       ,\n",
       "         0.       ],\n",
       "       [ 1.0019583,  0.       ,  0.       , ...,  0.       ,  1.001958 ,\n",
       "         0.       ],\n",
       "       [ 0.       ,  1.0019583,  0.       , ...,  0.       ,  0.       ,\n",
       "         0.       ],\n",
       "       ...,\n",
       "       [ 0.5372   , 12.7441   ,  0.       , ...,  7.2688   ,  1.9903   ,\n",
       "         1.8303   ],\n",
       "       [31.1225   ,  0.9078   ,  0.       , ...,  0.       ,  0.       ,\n",
       "         0.       ],\n",
       "       [ 0.5788   ,  0.6753   ,  0.       , ...,  0.       ,  0.7148   ,\n",
       "         0.       ]], dtype=float32)"
      ]
     },
     "metadata": {},
     "output_type": "display_data"
    },
    {
     "data": {
      "text/html": [
       "<h2>uns</h2>"
      ],
      "text/plain": [
       "<IPython.core.display.HTML object>"
      ]
     },
     "metadata": {},
     "output_type": "display_data"
    },
    {
     "data": {
      "text/plain": [
       "OverloadedDict, wrapping:\n",
       "\tOrderedDict()\n",
       "With overloaded keys:\n",
       "\t['neighbors']."
      ]
     },
     "metadata": {},
     "output_type": "display_data"
    }
   ],
   "source": [
    "prep.jupyter_h5ad_overview(adata)"
   ]
  },
  {
   "cell_type": "code",
   "execution_count": 4,
   "id": "170ef3ea-f923-4bb2-9ede-70554c4b2cf9",
   "metadata": {},
   "outputs": [
    {
     "name": "stderr",
     "output_type": "stream",
     "text": [
      "20230112-162006.162 52463 INFO root:98 make_sparse: conversion to sparse matrix done\n",
      "20230112-162018.083 52463 INFO root:123 make_norm_expression: no transformations necessary\n",
      "/Users/sgpeo/opt/miniconda3/envs/cellenium_import/lib/python3.10/site-packages/scanpy/preprocessing/_highly_variable_genes.py:478: FutureWarning: The frame.append method is deprecated and will be removed from pandas in a future version. Use pandas.concat instead.\n",
      "  hvg = hvg.append(missing_hvg, ignore_index=True)\n",
      "/Users/sgpeo/opt/miniconda3/envs/cellenium_import/lib/python3.10/site-packages/scanpy/preprocessing/_highly_variable_genes.py:478: FutureWarning: The frame.append method is deprecated and will be removed from pandas in a future version. Use pandas.concat instead.\n",
      "  hvg = hvg.append(missing_hvg, ignore_index=True)\n",
      "/Users/sgpeo/opt/miniconda3/envs/cellenium_import/lib/python3.10/site-packages/scanpy/preprocessing/_highly_variable_genes.py:478: FutureWarning: The frame.append method is deprecated and will be removed from pandas in a future version. Use pandas.concat instead.\n",
      "  hvg = hvg.append(missing_hvg, ignore_index=True)\n",
      "/Users/sgpeo/opt/miniconda3/envs/cellenium_import/lib/python3.10/site-packages/scanpy/preprocessing/_highly_variable_genes.py:478: FutureWarning: The frame.append method is deprecated and will be removed from pandas in a future version. Use pandas.concat instead.\n",
      "  hvg = hvg.append(missing_hvg, ignore_index=True)\n",
      "/Users/sgpeo/opt/miniconda3/envs/cellenium_import/lib/python3.10/site-packages/scanpy/preprocessing/_highly_variable_genes.py:478: FutureWarning: The frame.append method is deprecated and will be removed from pandas in a future version. Use pandas.concat instead.\n",
      "  hvg = hvg.append(missing_hvg, ignore_index=True)\n",
      "/Users/sgpeo/opt/miniconda3/envs/cellenium_import/lib/python3.10/site-packages/scanpy/preprocessing/_highly_variable_genes.py:478: FutureWarning: The frame.append method is deprecated and will be removed from pandas in a future version. Use pandas.concat instead.\n",
      "  hvg = hvg.append(missing_hvg, ignore_index=True)\n",
      "/Users/sgpeo/opt/miniconda3/envs/cellenium_import/lib/python3.10/site-packages/scanpy/preprocessing/_highly_variable_genes.py:478: FutureWarning: The frame.append method is deprecated and will be removed from pandas in a future version. Use pandas.concat instead.\n",
      "  hvg = hvg.append(missing_hvg, ignore_index=True)\n",
      "/Users/sgpeo/opt/miniconda3/envs/cellenium_import/lib/python3.10/site-packages/scanpy/preprocessing/_highly_variable_genes.py:478: FutureWarning: The frame.append method is deprecated and will be removed from pandas in a future version. Use pandas.concat instead.\n",
      "  hvg = hvg.append(missing_hvg, ignore_index=True)\n",
      "/Users/sgpeo/opt/miniconda3/envs/cellenium_import/lib/python3.10/site-packages/scanpy/preprocessing/_highly_variable_genes.py:478: FutureWarning: The frame.append method is deprecated and will be removed from pandas in a future version. Use pandas.concat instead.\n",
      "  hvg = hvg.append(missing_hvg, ignore_index=True)\n",
      "/Users/sgpeo/opt/miniconda3/envs/cellenium_import/lib/python3.10/site-packages/tqdm/auto.py:22: TqdmWarning: IProgress not found. Please update jupyter and ipywidgets. See https://ipywidgets.readthedocs.io/en/stable/user_install.html\n",
      "  from .autonotebook import tqdm as notebook_tqdm\n",
      "OMP: Info #276: omp_set_nested routine deprecated, please use omp_set_max_active_levels instead.\n",
      "/Users/sgpeo/opt/miniconda3/envs/cellenium_import/lib/python3.10/site-packages/scanpy/plotting/_tools/scatterplots.py:392: UserWarning: No data for colormapping provided via 'c'. Parameters 'cmap' will be ignored\n",
      "  cax = scatter(\n"
     ]
    },
    {
     "data": {
      "image/png": "[encoded data removed]",
      "text/plain": [
       "<Figure size 640x480 with 1 Axes>"
      ]
     },
     "metadata": {},
     "output_type": "display_data"
    }
   ],
   "source": [
    "prep.remove_raw_and_layers(adata)\n",
    "prep.make_sparse(adata)\n",
    "prep.filter_outliers(adata)\n",
    "prep.make_norm_expression(adata)\n",
    "\n",
    "adata = prep.adata_subset_for_testing(adata, 'tech', [\"celseq\",\"smarter\"], 200)\n",
    "\n",
    "prep.add_umap(adata)\n",
    "sc.pl.umap(adata, color='tech')\n",
    "# just for demoing subsampling, downsample the few cells to even fewer cells for display.\n",
    "prep.density_sample_umap(adata, 1500)"
   ]
  },
  {
   "cell_type": "code",
   "execution_count": 5,
   "id": "beae396c-3b9d-44e5-8521-6d04c6dfb65c",
   "metadata": {},
   "outputs": [],
   "source": [
    "prep.set_cellenium_metadata(\n",
    "    adata,\n",
    "    title='Pancreas Atlas (subset for testing)',\n",
    "    description='',\n",
    "    taxonomy_id=9606,\n",
    "    ncit_tissue_ids=['C12393'],\n",
    "    mesh_disease_ids=[],\n",
    "    X_pseudolayer_name='norm_log_expression',\n",
    "    main_sample_attributes=['celltype', 'tech']\n",
    ")"
   ]
  },
  {
   "cell_type": "code",
   "execution_count": 6,
   "id": "40dc78f6-fa26-4390-90d7-95ae5606dbc9",
   "metadata": {},
   "outputs": [
    {
     "name": "stderr",
     "output_type": "stream",
     "text": [
      "diff.exp. genes: 100%|███████████████████████████████████████████████████████████████████████████████████████████████████████████████████████████████████████████████████████████████████████████████| 2/2 [00:00<00:00, 11.19it/s]\n",
      "20230112-162027.483 52463 INFO root:292 calculate_differentially_expressed_genes: found a list of genes for these attributes: ['celltype', 'tech']\n"
     ]
    },
    {
     "data": {
      "text/html": [
       "<div>\n",
       "<style scoped>\n",
       "    .dataframe tbody tr th:only-of-type {\n",
       "        vertical-align: middle;\n",
       "    }\n",
       "\n",
       "    .dataframe tbody tr th {\n",
       "        vertical-align: top;\n",
       "    }\n",
       "\n",
       "    .dataframe thead th {\n",
       "        text-align: right;\n",
       "    }\n",
       "</style>\n",
       "<table border=\"1\" class=\"dataframe\">\n",
       "  <thead>\n",
       "    <tr style=\"text-align: right;\">\n",
       "      <th></th>\n",
       "      <th>names</th>\n",
       "      <th>scores</th>\n",
       "      <th>logfoldchanges</th>\n",
       "      <th>pvals</th>\n",
       "      <th>pvals_adj</th>\n",
       "      <th>ref_attr_value</th>\n",
       "      <th>cmp_attr_value</th>\n",
       "      <th>attribute_name</th>\n",
       "    </tr>\n",
       "  </thead>\n",
       "  <tbody>\n",
       "    <tr>\n",
       "      <th>0</th>\n",
       "      <td>INHBA</td>\n",
       "      <td>10.681683</td>\n",
       "      <td>2.033295</td>\n",
       "      <td>1.240036e-26</td>\n",
       "      <td>1.907747e-25</td>\n",
       "      <td>alpha</td>\n",
       "      <td>_OTHERS_</td>\n",
       "      <td>celltype</td>\n",
       "    </tr>\n",
       "    <tr>\n",
       "      <th>1</th>\n",
       "      <td>RSAD2</td>\n",
       "      <td>1.664440</td>\n",
       "      <td>0.797751</td>\n",
       "      <td>9.602453e-02</td>\n",
       "      <td>1.979887e-01</td>\n",
       "      <td>alpha</td>\n",
       "      <td>_OTHERS_</td>\n",
       "      <td>celltype</td>\n",
       "    </tr>\n",
       "    <tr>\n",
       "      <th>2</th>\n",
       "      <td>DLK1</td>\n",
       "      <td>24.215004</td>\n",
       "      <td>7.728511</td>\n",
       "      <td>1.546228e-129</td>\n",
       "      <td>3.092455e-127</td>\n",
       "      <td>beta</td>\n",
       "      <td>_OTHERS_</td>\n",
       "      <td>celltype</td>\n",
       "    </tr>\n",
       "    <tr>\n",
       "      <th>3</th>\n",
       "      <td>MT1X</td>\n",
       "      <td>15.284418</td>\n",
       "      <td>2.823437</td>\n",
       "      <td>9.712639e-53</td>\n",
       "      <td>9.712639e-51</td>\n",
       "      <td>beta</td>\n",
       "      <td>_OTHERS_</td>\n",
       "      <td>celltype</td>\n",
       "    </tr>\n",
       "    <tr>\n",
       "      <th>4</th>\n",
       "      <td>IGFBP5</td>\n",
       "      <td>11.329806</td>\n",
       "      <td>2.025131</td>\n",
       "      <td>9.341096e-30</td>\n",
       "      <td>4.670548e-28</td>\n",
       "      <td>beta</td>\n",
       "      <td>_OTHERS_</td>\n",
       "      <td>celltype</td>\n",
       "    </tr>\n",
       "    <tr>\n",
       "      <th>...</th>\n",
       "      <td>...</td>\n",
       "      <td>...</td>\n",
       "      <td>...</td>\n",
       "      <td>...</td>\n",
       "      <td>...</td>\n",
       "      <td>...</td>\n",
       "      <td>...</td>\n",
       "      <td>...</td>\n",
       "    </tr>\n",
       "    <tr>\n",
       "      <th>422</th>\n",
       "      <td>SERPINE1</td>\n",
       "      <td>2.889478</td>\n",
       "      <td>3.442719</td>\n",
       "      <td>3.858814e-03</td>\n",
       "      <td>8.671493e-03</td>\n",
       "      <td>celseq</td>\n",
       "      <td>_OTHERS_</td>\n",
       "      <td>tech</td>\n",
       "    </tr>\n",
       "    <tr>\n",
       "      <th>423</th>\n",
       "      <td>AMY2A</td>\n",
       "      <td>2.842070</td>\n",
       "      <td>3.962490</td>\n",
       "      <td>4.482164e-03</td>\n",
       "      <td>9.850911e-03</td>\n",
       "      <td>celseq</td>\n",
       "      <td>_OTHERS_</td>\n",
       "      <td>tech</td>\n",
       "    </tr>\n",
       "    <tr>\n",
       "      <th>424</th>\n",
       "      <td>G0S2</td>\n",
       "      <td>2.367533</td>\n",
       "      <td>1.342405</td>\n",
       "      <td>1.790714e-02</td>\n",
       "      <td>3.692194e-02</td>\n",
       "      <td>celseq</td>\n",
       "      <td>_OTHERS_</td>\n",
       "      <td>tech</td>\n",
       "    </tr>\n",
       "    <tr>\n",
       "      <th>425</th>\n",
       "      <td>COL3A1</td>\n",
       "      <td>2.295061</td>\n",
       "      <td>3.597092</td>\n",
       "      <td>2.172965e-02</td>\n",
       "      <td>4.389828e-02</td>\n",
       "      <td>celseq</td>\n",
       "      <td>_OTHERS_</td>\n",
       "      <td>tech</td>\n",
       "    </tr>\n",
       "    <tr>\n",
       "      <th>426</th>\n",
       "      <td>ANXA1</td>\n",
       "      <td>2.237344</td>\n",
       "      <td>3.001584</td>\n",
       "      <td>2.526389e-02</td>\n",
       "      <td>5.052779e-02</td>\n",
       "      <td>celseq</td>\n",
       "      <td>_OTHERS_</td>\n",
       "      <td>tech</td>\n",
       "    </tr>\n",
       "  </tbody>\n",
       "</table>\n",
       "<p>427 rows × 8 columns</p>\n",
       "</div>"
      ],
      "text/plain": [
       "        names     scores  logfoldchanges          pvals      pvals_adj  \\\n",
       "0       INHBA  10.681683        2.033295   1.240036e-26   1.907747e-25   \n",
       "1       RSAD2   1.664440        0.797751   9.602453e-02   1.979887e-01   \n",
       "2        DLK1  24.215004        7.728511  1.546228e-129  3.092455e-127   \n",
       "3        MT1X  15.284418        2.823437   9.712639e-53   9.712639e-51   \n",
       "4      IGFBP5  11.329806        2.025131   9.341096e-30   4.670548e-28   \n",
       "..        ...        ...             ...            ...            ...   \n",
       "422  SERPINE1   2.889478        3.442719   3.858814e-03   8.671493e-03   \n",
       "423     AMY2A   2.842070        3.962490   4.482164e-03   9.850911e-03   \n",
       "424      G0S2   2.367533        1.342405   1.790714e-02   3.692194e-02   \n",
       "425    COL3A1   2.295061        3.597092   2.172965e-02   4.389828e-02   \n",
       "426     ANXA1   2.237344        3.001584   2.526389e-02   5.052779e-02   \n",
       "\n",
       "    ref_attr_value cmp_attr_value attribute_name  \n",
       "0            alpha       _OTHERS_       celltype  \n",
       "1            alpha       _OTHERS_       celltype  \n",
       "2             beta       _OTHERS_       celltype  \n",
       "3             beta       _OTHERS_       celltype  \n",
       "4             beta       _OTHERS_       celltype  \n",
       "..             ...            ...            ...  \n",
       "422         celseq       _OTHERS_           tech  \n",
       "423         celseq       _OTHERS_           tech  \n",
       "424         celseq       _OTHERS_           tech  \n",
       "425         celseq       _OTHERS_           tech  \n",
       "426         celseq       _OTHERS_           tech  \n",
       "\n",
       "[427 rows x 8 columns]"
      ]
     },
     "execution_count": 6,
     "metadata": {},
     "output_type": "execute_result"
    }
   ],
   "source": [
    "prep.calculate_differentially_expressed_genes(adata, ['celltype','tech'])"
   ]
  },
  {
   "cell_type": "markdown",
   "id": "7591e38c-46d5-4a70-b088-924b6da87dd1",
   "metadata": {
    "tags": []
   },
   "source": [
    "# final h5ad file"
   ]
  },
  {
   "cell_type": "code",
   "execution_count": 7,
   "id": "514ea51b-86f5-4df2-99f6-ccae137b120f",
   "metadata": {},
   "outputs": [
    {
     "data": {
      "text/html": [
       "<h2>obs</h2>"
      ],
      "text/plain": [
       "<IPython.core.display.HTML object>"
      ]
     },
     "metadata": {},
     "output_type": "display_data"
    },
    {
     "data": {
      "text/html": [
       "<div>\n",
       "<style scoped>\n",
       "    .dataframe tbody tr th:only-of-type {\n",
       "        vertical-align: middle;\n",
       "    }\n",
       "\n",
       "    .dataframe tbody tr th {\n",
       "        vertical-align: top;\n",
       "    }\n",
       "\n",
       "    .dataframe thead th {\n",
       "        text-align: right;\n",
       "    }\n",
       "</style>\n",
       "<table border=\"1\" class=\"dataframe\">\n",
       "  <thead>\n",
       "    <tr style=\"text-align: right;\">\n",
       "      <th></th>\n",
       "      <th>tech</th>\n",
       "      <th>celltype</th>\n",
       "      <th>size_factors</th>\n",
       "      <th>n_genes</th>\n",
       "    </tr>\n",
       "  </thead>\n",
       "  <tbody>\n",
       "    <tr>\n",
       "      <th>D101_5</th>\n",
       "      <td>celseq</td>\n",
       "      <td>gamma</td>\n",
       "      <td>0.028492</td>\n",
       "      <td>1857</td>\n",
       "    </tr>\n",
       "    <tr>\n",
       "      <th>D101_43</th>\n",
       "      <td>celseq</td>\n",
       "      <td>gamma</td>\n",
       "      <td>0.079348</td>\n",
       "      <td>3724</td>\n",
       "    </tr>\n",
       "    <tr>\n",
       "      <th>D101_93</th>\n",
       "      <td>celseq</td>\n",
       "      <td>gamma</td>\n",
       "      <td>0.037932</td>\n",
       "      <td>2261</td>\n",
       "    </tr>\n",
       "    <tr>\n",
       "      <th>D102_4</th>\n",
       "      <td>celseq</td>\n",
       "      <td>gamma</td>\n",
       "      <td>0.047685</td>\n",
       "      <td>2653</td>\n",
       "    </tr>\n",
       "    <tr>\n",
       "      <th>D172444_23</th>\n",
       "      <td>celseq</td>\n",
       "      <td>gamma</td>\n",
       "      <td>0.038683</td>\n",
       "      <td>2230</td>\n",
       "    </tr>\n",
       "    <tr>\n",
       "      <th>...</th>\n",
       "      <td>...</td>\n",
       "      <td>...</td>\n",
       "      <td>...</td>\n",
       "      <td>...</td>\n",
       "    </tr>\n",
       "    <tr>\n",
       "      <th>Sample_1594</th>\n",
       "      <td>smarter</td>\n",
       "      <td>gamma</td>\n",
       "      <td>1.000000</td>\n",
       "      <td>5842</td>\n",
       "    </tr>\n",
       "    <tr>\n",
       "      <th>Sample_1595</th>\n",
       "      <td>smarter</td>\n",
       "      <td>gamma</td>\n",
       "      <td>1.000000</td>\n",
       "      <td>5196</td>\n",
       "    </tr>\n",
       "    <tr>\n",
       "      <th>Sample_1597</th>\n",
       "      <td>smarter</td>\n",
       "      <td>gamma</td>\n",
       "      <td>1.000000</td>\n",
       "      <td>6356</td>\n",
       "    </tr>\n",
       "    <tr>\n",
       "      <th>Sample_1598</th>\n",
       "      <td>smarter</td>\n",
       "      <td>gamma</td>\n",
       "      <td>1.000000</td>\n",
       "      <td>4170</td>\n",
       "    </tr>\n",
       "    <tr>\n",
       "      <th>Sample_1600</th>\n",
       "      <td>smarter</td>\n",
       "      <td>gamma</td>\n",
       "      <td>1.000000</td>\n",
       "      <td>4007</td>\n",
       "    </tr>\n",
       "  </tbody>\n",
       "</table>\n",
       "<p>2496 rows × 4 columns</p>\n",
       "</div>"
      ],
      "text/plain": [
       "<IPython.core.display.HTML object>"
      ]
     },
     "metadata": {},
     "output_type": "display_data"
    },
    {
     "data": {
      "text/html": [
       "<h2>var</h2>"
      ],
      "text/plain": [
       "<IPython.core.display.HTML object>"
      ]
     },
     "metadata": {},
     "output_type": "display_data"
    },
    {
     "data": {
      "text/html": [
       "<div>\n",
       "<style scoped>\n",
       "    .dataframe tbody tr th:only-of-type {\n",
       "        vertical-align: middle;\n",
       "    }\n",
       "\n",
       "    .dataframe tbody tr th {\n",
       "        vertical-align: top;\n",
       "    }\n",
       "\n",
       "    .dataframe thead th {\n",
       "        text-align: right;\n",
       "    }\n",
       "</style>\n",
       "<table border=\"1\" class=\"dataframe\">\n",
       "  <thead>\n",
       "    <tr style=\"text-align: right;\">\n",
       "      <th></th>\n",
       "      <th>n_cells</th>\n",
       "      <th>highly_variable</th>\n",
       "      <th>means</th>\n",
       "      <th>dispersions</th>\n",
       "      <th>dispersions_norm</th>\n",
       "      <th>highly_variable_nbatches</th>\n",
       "      <th>highly_variable_intersection</th>\n",
       "    </tr>\n",
       "  </thead>\n",
       "  <tbody>\n",
       "    <tr>\n",
       "      <th>ACP5</th>\n",
       "      <td>733</td>\n",
       "      <td>False</td>\n",
       "      <td>0.066578</td>\n",
       "      <td>2.948855</td>\n",
       "      <td>-1.482115</td>\n",
       "      <td>6</td>\n",
       "      <td>False</td>\n",
       "    </tr>\n",
       "    <tr>\n",
       "      <th>ACTA1</th>\n",
       "      <td>403</td>\n",
       "      <td>False</td>\n",
       "      <td>0.066829</td>\n",
       "      <td>3.532015</td>\n",
       "      <td>-0.941704</td>\n",
       "      <td>4</td>\n",
       "      <td>False</td>\n",
       "    </tr>\n",
       "    <tr>\n",
       "      <th>AKR1B10</th>\n",
       "      <td>2013</td>\n",
       "      <td>False</td>\n",
       "      <td>2.834556</td>\n",
       "      <td>6.259078</td>\n",
       "      <td>-0.245735</td>\n",
       "      <td>4</td>\n",
       "      <td>False</td>\n",
       "    </tr>\n",
       "    <tr>\n",
       "      <th>AKR1C1</th>\n",
       "      <td>2910</td>\n",
       "      <td>False</td>\n",
       "      <td>2.916795</td>\n",
       "      <td>5.629438</td>\n",
       "      <td>-1.215314</td>\n",
       "      <td>4</td>\n",
       "      <td>False</td>\n",
       "    </tr>\n",
       "    <tr>\n",
       "      <th>AKR1C2</th>\n",
       "      <td>2253</td>\n",
       "      <td>False</td>\n",
       "      <td>2.598710</td>\n",
       "      <td>6.069993</td>\n",
       "      <td>0.035646</td>\n",
       "      <td>4</td>\n",
       "      <td>False</td>\n",
       "    </tr>\n",
       "    <tr>\n",
       "      <th>...</th>\n",
       "      <td>...</td>\n",
       "      <td>...</td>\n",
       "      <td>...</td>\n",
       "      <td>...</td>\n",
       "      <td>...</td>\n",
       "      <td>...</td>\n",
       "      <td>...</td>\n",
       "    </tr>\n",
       "    <tr>\n",
       "      <th>TPSB2</th>\n",
       "      <td>110</td>\n",
       "      <td>True</td>\n",
       "      <td>0.967110</td>\n",
       "      <td>6.964861</td>\n",
       "      <td>1.492120</td>\n",
       "      <td>6</td>\n",
       "      <td>False</td>\n",
       "    </tr>\n",
       "    <tr>\n",
       "      <th>TSPAN8</th>\n",
       "      <td>2601</td>\n",
       "      <td>False</td>\n",
       "      <td>2.861040</td>\n",
       "      <td>5.651023</td>\n",
       "      <td>-1.182074</td>\n",
       "      <td>3</td>\n",
       "      <td>False</td>\n",
       "    </tr>\n",
       "    <tr>\n",
       "      <th>TYROBP</th>\n",
       "      <td>214</td>\n",
       "      <td>True</td>\n",
       "      <td>0.644817</td>\n",
       "      <td>6.505171</td>\n",
       "      <td>1.276444</td>\n",
       "      <td>6</td>\n",
       "      <td>False</td>\n",
       "    </tr>\n",
       "    <tr>\n",
       "      <th>VCAM1</th>\n",
       "      <td>1032</td>\n",
       "      <td>False</td>\n",
       "      <td>1.044938</td>\n",
       "      <td>4.540277</td>\n",
       "      <td>-1.151451</td>\n",
       "      <td>3</td>\n",
       "      <td>False</td>\n",
       "    </tr>\n",
       "    <tr>\n",
       "      <th>VCAN</th>\n",
       "      <td>760</td>\n",
       "      <td>False</td>\n",
       "      <td>0.447058</td>\n",
       "      <td>3.905135</td>\n",
       "      <td>-1.405864</td>\n",
       "      <td>4</td>\n",
       "      <td>False</td>\n",
       "    </tr>\n",
       "  </tbody>\n",
       "</table>\n",
       "<p>200 rows × 7 columns</p>\n",
       "</div>"
      ],
      "text/plain": [
       "<IPython.core.display.HTML object>"
      ]
     },
     "metadata": {},
     "output_type": "display_data"
    },
    {
     "data": {
      "text/html": [
       "<h2>X</h2>"
      ],
      "text/plain": [
       "<IPython.core.display.HTML object>"
      ]
     },
     "metadata": {},
     "output_type": "display_data"
    },
    {
     "data": {
      "text/plain": [
       "(2496, 200)"
      ]
     },
     "metadata": {},
     "output_type": "display_data"
    },
    {
     "data": {
      "text/plain": [
       "<2496x200 sparse matrix of type '<class 'numpy.float32'>'\n",
       "\twith 48719 stored elements in Compressed Sparse Row format>"
      ]
     },
     "metadata": {},
     "output_type": "display_data"
    },
    {
     "data": {
      "text/html": [
       "<h2>uns</h2>"
      ],
      "text/plain": [
       "<IPython.core.display.HTML object>"
      ]
     },
     "metadata": {},
     "output_type": "display_data"
    },
    {
     "data": {
      "text/plain": [
       "OverloadedDict, wrapping:\n",
       "\tOrderedDict([('hvg', {'flavor': 'seurat'}), ('neighbors', {'connectivities_key': 'connectivities', 'distances_key': 'distances', 'params': {'n_neighbors': 15, 'method': 'umap', 'random_state': 0, 'metric': 'euclidean', 'n_pcs': 20}}), ('umap', {'params': {'a': 0.5830300205483709, 'b': 1.334166992455648}}), ('tech_colors', ['#1f77b4', '#ff7f0e']), ('cellenium', {'umap_density_sampled_indices': array([   1,    2,    4, ..., 2491, 2492, 2493]), 'main_sample_attributes': ['celltype', 'tech'], 'title': 'Pancreas Atlas (subset for testing)', 'description': '', 'taxonomy_id': 9606, 'ncit_tissue_ids': ['C12393'], 'mesh_disease_ids': [], 'X_pseudolayer_name': 'norm_log_expression', 'differentially_expressed_genes':         names     scores  logfoldchanges          pvals      pvals_adj  \\\n",
       "0       INHBA  10.681683        2.033295   1.240036e-26   1.907747e-25   \n",
       "1       RSAD2   1.664440        0.797751   9.602453e-02   1.979887e-01   \n",
       "2        DLK1  24.215004        7.728511  1.546228e-129  3.092455e-127   \n",
       "3        MT1X  15.284418        2.823437   9.712639e-53   9.712639e-51   \n",
       "4      IGFBP5  11.329806        2.025131   9.341096e-30   4.670548e-28   \n",
       "..        ...        ...             ...            ...            ...   \n",
       "422  SERPINE1   2.889478        3.442719   3.858814e-03   8.671493e-03   \n",
       "423     AMY2A   2.842070        3.962490   4.482164e-03   9.850911e-03   \n",
       "424      G0S2   2.367533        1.342405   1.790714e-02   3.692194e-02   \n",
       "425    COL3A1   2.295061        3.597092   2.172965e-02   4.389828e-02   \n",
       "426     ANXA1   2.237344        3.001584   2.526389e-02   5.052779e-02   \n",
       "\n",
       "    ref_attr_value cmp_attr_value attribute_name  \n",
       "0            alpha       _OTHERS_       celltype  \n",
       "1            alpha       _OTHERS_       celltype  \n",
       "2             beta       _OTHERS_       celltype  \n",
       "3             beta       _OTHERS_       celltype  \n",
       "4             beta       _OTHERS_       celltype  \n",
       "..             ...            ...            ...  \n",
       "422         celseq       _OTHERS_           tech  \n",
       "423         celseq       _OTHERS_           tech  \n",
       "424         celseq       _OTHERS_           tech  \n",
       "425         celseq       _OTHERS_           tech  \n",
       "426         celseq       _OTHERS_           tech  \n",
       "\n",
       "[427 rows x 8 columns]})])\n",
       "With overloaded keys:\n",
       "\t['neighbors']."
      ]
     },
     "metadata": {},
     "output_type": "display_data"
    }
   ],
   "source": [
    "adata.write(prep.basedir.joinpath(\"pancreas_atlas_subset.h5ad\"))\n",
    "prep.jupyter_h5ad_overview(adata)"
   ]
  },
  {
   "cell_type": "code",
   "execution_count": null,
   "id": "67884778-464c-401b-873d-2a251659970a",
   "metadata": {},
   "outputs": [],
   "source": []
  }
 ],
 "metadata": {
  "kernelspec": {
   "display_name": "Python 3 (ipykernel)",
   "language": "python",
   "name": "python3"
  },
  "language_info": {
   "codemirror_mode": {
    "name": "ipython",
    "version": 3
   },
   "file_extension": ".py",
   "mimetype": "text/x-python",
   "name": "python",
   "nbconvert_exporter": "python",
   "pygments_lexer": "ipython3",
   "version": "3.10.8"
  }
 },
 "nbformat": 4,
 "nbformat_minor": 5
}
